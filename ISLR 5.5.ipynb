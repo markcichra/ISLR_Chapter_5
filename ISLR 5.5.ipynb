{
 "cells": [
  {
   "cell_type": "code",
   "execution_count": 2,
   "metadata": {
    "collapsed": true
   },
   "outputs": [],
   "source": [
    "library(ISLR)"
   ]
  },
  {
   "cell_type": "code",
   "execution_count": 3,
   "metadata": {},
   "outputs": [
    {
     "data": {
      "text/html": [
       "<ol class=list-inline>\n",
       "\t<li>10000</li>\n",
       "\t<li>4</li>\n",
       "</ol>\n"
      ],
      "text/latex": [
       "\\begin{enumerate*}\n",
       "\\item 10000\n",
       "\\item 4\n",
       "\\end{enumerate*}\n"
      ],
      "text/markdown": [
       "1. 10000\n",
       "2. 4\n",
       "\n",
       "\n"
      ],
      "text/plain": [
       "[1] 10000     4"
      ]
     },
     "metadata": {},
     "output_type": "display_data"
    }
   ],
   "source": [
    "dim(Default)"
   ]
  },
  {
   "cell_type": "code",
   "execution_count": 4,
   "metadata": {},
   "outputs": [
    {
     "data": {
      "text/html": [
       "<ol class=list-inline>\n",
       "\t<li>'default'</li>\n",
       "\t<li>'student'</li>\n",
       "\t<li>'balance'</li>\n",
       "\t<li>'income'</li>\n",
       "</ol>\n"
      ],
      "text/latex": [
       "\\begin{enumerate*}\n",
       "\\item 'default'\n",
       "\\item 'student'\n",
       "\\item 'balance'\n",
       "\\item 'income'\n",
       "\\end{enumerate*}\n"
      ],
      "text/markdown": [
       "1. 'default'\n",
       "2. 'student'\n",
       "3. 'balance'\n",
       "4. 'income'\n",
       "\n",
       "\n"
      ],
      "text/plain": [
       "[1] \"default\" \"student\" \"balance\" \"income\" "
      ]
     },
     "metadata": {},
     "output_type": "display_data"
    }
   ],
   "source": [
    "names(Default)"
   ]
  },
  {
   "cell_type": "code",
   "execution_count": 5,
   "metadata": {
    "scrolled": true
   },
   "outputs": [
    {
     "data": {
      "text/plain": [
       " default    student       balance           income     \n",
       " No :9667   No :7056   Min.   :   0.0   Min.   :  772  \n",
       " Yes: 333   Yes:2944   1st Qu.: 481.7   1st Qu.:21340  \n",
       "                       Median : 823.6   Median :34553  \n",
       "                       Mean   : 835.4   Mean   :33517  \n",
       "                       3rd Qu.:1166.3   3rd Qu.:43808  \n",
       "                       Max.   :2654.3   Max.   :73554  "
      ]
     },
     "metadata": {},
     "output_type": "display_data"
    }
   ],
   "source": [
    "summary(Default)"
   ]
  },
  {
   "cell_type": "code",
   "execution_count": 6,
   "metadata": {
    "scrolled": true
   },
   "outputs": [
    {
     "data": {
      "text/plain": [
       "\n",
       "Call:\n",
       "glm(formula = default ~ income + balance, family = binomial, \n",
       "    data = Default)\n",
       "\n",
       "Deviance Residuals: \n",
       "    Min       1Q   Median       3Q      Max  \n",
       "-2.4725  -0.1444  -0.0574  -0.0211   3.7245  \n",
       "\n",
       "Coefficients:\n",
       "              Estimate Std. Error z value Pr(>|z|)    \n",
       "(Intercept) -1.154e+01  4.348e-01 -26.545  < 2e-16 ***\n",
       "income       2.081e-05  4.985e-06   4.174 2.99e-05 ***\n",
       "balance      5.647e-03  2.274e-04  24.836  < 2e-16 ***\n",
       "---\n",
       "Signif. codes:  0 '***' 0.001 '**' 0.01 '*' 0.05 '.' 0.1 ' ' 1\n",
       "\n",
       "(Dispersion parameter for binomial family taken to be 1)\n",
       "\n",
       "    Null deviance: 2920.6  on 9999  degrees of freedom\n",
       "Residual deviance: 1579.0  on 9997  degrees of freedom\n",
       "AIC: 1585\n",
       "\n",
       "Number of Fisher Scoring iterations: 8\n"
      ]
     },
     "metadata": {},
     "output_type": "display_data"
    }
   ],
   "source": [
    "glm.fit = glm(default ~ income + balance, data=Default, family=binomial)\n",
    "summary(glm.fit)"
   ]
  },
  {
   "cell_type": "code",
   "execution_count": 63,
   "metadata": {
    "scrolled": true
   },
   "outputs": [
    {
     "data": {
      "text/plain": [
       "         \n",
       "glm.pred1   No  Yes\n",
       "      No  2889   72\n",
       "      Yes   12   27"
      ]
     },
     "metadata": {},
     "output_type": "display_data"
    },
    {
     "data": {
      "text/html": [
       "0.028"
      ],
      "text/latex": [
       "0.028"
      ],
      "text/markdown": [
       "0.028"
      ],
      "text/plain": [
       "[1] 0.028"
      ]
     },
     "metadata": {},
     "output_type": "display_data"
    }
   ],
   "source": [
    "set.seed(1)\n",
    "train1 = sample(10000, 7000)\n",
    "glm.train1 = glm(default ~ income + balance, data=Default, subset=train1, family=binomial)\n",
    "glm.probs1 = predict(glm.train1, Default[-train1,], type=\"response\")\n",
    "glm.pred1=rep('No', 3000)\n",
    "glm.pred1[glm.probs1 >.5]='Yes'\n",
    "errortable1 = table(glm.pred1, Default[-train1,]$default)\n",
    "errortable1\n",
    "(errortable1[1,2] + errortable1[2,1])/(errortable1[1,1] + errortable1[1,2] + errortable1[2,1] + errortable1[2,2])"
   ]
  },
  {
   "cell_type": "code",
   "execution_count": 67,
   "metadata": {},
   "outputs": [
    {
     "data": {
      "text/plain": [
       "         \n",
       "glm.pred2   No  Yes\n",
       "      No  1929   45\n",
       "      Yes    7   19"
      ]
     },
     "metadata": {},
     "output_type": "display_data"
    },
    {
     "data": {
      "text/html": [
       "0.026"
      ],
      "text/latex": [
       "0.026"
      ],
      "text/markdown": [
       "0.026"
      ],
      "text/plain": [
       "[1] 0.026"
      ]
     },
     "metadata": {},
     "output_type": "display_data"
    }
   ],
   "source": [
    "set.seed(1)\n",
    "train2 = sample(10000, 8000)\n",
    "glm.train2 = glm(default ~ income + balance, data=Default, subset=train2, family=binomial)\n",
    "glm.probs2 = predict(glm.train2, Default[-train2,], type=\"response\")\n",
    "glm.pred2=rep('No', 2000)\n",
    "glm.pred2[glm.probs2 >.5]='Yes'\n",
    "errortable2 = table(glm.pred2, Default[-train2,]$default)\n",
    "errortable2\n",
    "(errortable2[1,2] + errortable2[2,1])/(errortable2[1,1] + errortable2[1,2] + errortable2[2,1] + errortable2[2,2])"
   ]
  },
  {
   "cell_type": "code",
   "execution_count": 69,
   "metadata": {},
   "outputs": [
    {
     "data": {
      "text/plain": [
       "         \n",
       "glm.pred3  No Yes\n",
       "      No  965  19\n",
       "      Yes   6  10"
      ]
     },
     "metadata": {},
     "output_type": "display_data"
    },
    {
     "data": {
      "text/html": [
       "0.025"
      ],
      "text/latex": [
       "0.025"
      ],
      "text/markdown": [
       "0.025"
      ],
      "text/plain": [
       "[1] 0.025"
      ]
     },
     "metadata": {},
     "output_type": "display_data"
    }
   ],
   "source": [
    "set.seed(1)\n",
    "train3 = sample(10000, 9000)\n",
    "glm.train3 = glm(default ~ income + balance, data=Default, subset=train3, family=binomial)\n",
    "glm.probs3 = predict(glm.train3, Default[-train3,], type=\"response\")\n",
    "glm.pred3=rep('No', 1000)\n",
    "glm.pred3[glm.probs3 >.5]='Yes'\n",
    "errortable3 = table(glm.pred3, Default[-train3,]$default)\n",
    "errortable3\n",
    "(errortable3[1,2] + errortable3[2,1])/(errortable3[1,1] + errortable3[1,2] + errortable3[2,1] + errortable3[2,2])"
   ]
  },
  {
   "cell_type": "markdown",
   "metadata": {},
   "source": [
    "The prediction error appears to go down as the size of the training set increases."
   ]
  },
  {
   "cell_type": "code",
   "execution_count": 70,
   "metadata": {},
   "outputs": [
    {
     "data": {
      "text/plain": [
       "         \n",
       "glm.pred4  No Yes\n",
       "      No  966  19\n",
       "      Yes   5  10"
      ]
     },
     "metadata": {},
     "output_type": "display_data"
    },
    {
     "data": {
      "text/html": [
       "0.024"
      ],
      "text/latex": [
       "0.024"
      ],
      "text/markdown": [
       "0.024"
      ],
      "text/plain": [
       "[1] 0.024"
      ]
     },
     "metadata": {},
     "output_type": "display_data"
    }
   ],
   "source": [
    "set.seed(1)\n",
    "train4 = sample(10000, 9000)\n",
    "glm.train4 = glm(default ~ income + balance + student, data=Default, subset=train4, family=binomial)\n",
    "glm.probs4 = predict(glm.train4, Default[-train4,], type=\"response\")\n",
    "glm.pred4=rep('No', 1000)\n",
    "glm.pred4[glm.probs4 >.5]='Yes'\n",
    "errortable4 = table(glm.pred4, Default[-train4,]$default)\n",
    "errortable4\n",
    "(errortable4[1,2] + errortable4[2,1])/(errortable4[1,1] + errortable4[1,2] + errortable4[2,1] + errortable4[2,2])"
   ]
  },
  {
   "cell_type": "markdown",
   "metadata": {},
   "source": [
    "The addition of the student variable as a predictor appears to reduce the prediction error."
   ]
  }
 ],
 "metadata": {
  "kernelspec": {
   "display_name": "R",
   "language": "R",
   "name": "ir"
  },
  "language_info": {
   "codemirror_mode": "r",
   "file_extension": ".r",
   "mimetype": "text/x-r-source",
   "name": "R",
   "pygments_lexer": "r",
   "version": "3.4.0"
  }
 },
 "nbformat": 4,
 "nbformat_minor": 2
}
