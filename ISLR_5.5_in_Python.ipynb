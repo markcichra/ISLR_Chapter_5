{
 "cells": [
  {
   "cell_type": "code",
   "execution_count": 30,
   "metadata": {},
   "outputs": [
    {
     "data": {
      "text/plain": [
       "(10000, 5)"
      ]
     },
     "execution_count": 30,
     "metadata": {},
     "output_type": "execute_result"
    }
   ],
   "source": [
    "# I exported the Weekly dataset from R Using write.csv(Default, \"C:/Users/mcichra/Documents/ISLR work/Default.csv\")\n",
    "\n",
    "import pandas as pd\n",
    "pd.set_option('display.float_format', '{:,.2f}'.format)\n",
    "converters = {'a': int, 'b': int, 'c': int}\n",
    "Default = pd.read_csv('Default.csv', converters=converters)\n",
    "Default.shape"
   ]
  },
  {
   "cell_type": "code",
   "execution_count": 41,
   "metadata": {},
   "outputs": [
    {
     "data": {
      "text/html": [
       "<div>\n",
       "<style scoped>\n",
       "    .dataframe tbody tr th:only-of-type {\n",
       "        vertical-align: middle;\n",
       "    }\n",
       "\n",
       "    .dataframe tbody tr th {\n",
       "        vertical-align: top;\n",
       "    }\n",
       "\n",
       "    .dataframe thead th {\n",
       "        text-align: right;\n",
       "    }\n",
       "</style>\n",
       "<table border=\"1\" class=\"dataframe\">\n",
       "  <thead>\n",
       "    <tr style=\"text-align: right;\">\n",
       "      <th></th>\n",
       "      <th>Unnamed: 0</th>\n",
       "      <th>default</th>\n",
       "      <th>student</th>\n",
       "      <th>balance</th>\n",
       "      <th>income</th>\n",
       "      <th>default2</th>\n",
       "      <th>student2</th>\n",
       "    </tr>\n",
       "  </thead>\n",
       "  <tbody>\n",
       "    <tr>\n",
       "      <th>0</th>\n",
       "      <td>1</td>\n",
       "      <td>No</td>\n",
       "      <td>No</td>\n",
       "      <td>729.53</td>\n",
       "      <td>44,361.63</td>\n",
       "      <td>0</td>\n",
       "      <td>0</td>\n",
       "    </tr>\n",
       "    <tr>\n",
       "      <th>1</th>\n",
       "      <td>2</td>\n",
       "      <td>No</td>\n",
       "      <td>Yes</td>\n",
       "      <td>817.18</td>\n",
       "      <td>12,106.13</td>\n",
       "      <td>0</td>\n",
       "      <td>1</td>\n",
       "    </tr>\n",
       "    <tr>\n",
       "      <th>2</th>\n",
       "      <td>3</td>\n",
       "      <td>No</td>\n",
       "      <td>No</td>\n",
       "      <td>1,073.55</td>\n",
       "      <td>31,767.14</td>\n",
       "      <td>0</td>\n",
       "      <td>0</td>\n",
       "    </tr>\n",
       "    <tr>\n",
       "      <th>3</th>\n",
       "      <td>4</td>\n",
       "      <td>No</td>\n",
       "      <td>No</td>\n",
       "      <td>529.25</td>\n",
       "      <td>35,704.49</td>\n",
       "      <td>0</td>\n",
       "      <td>0</td>\n",
       "    </tr>\n",
       "    <tr>\n",
       "      <th>4</th>\n",
       "      <td>5</td>\n",
       "      <td>No</td>\n",
       "      <td>No</td>\n",
       "      <td>785.66</td>\n",
       "      <td>38,463.50</td>\n",
       "      <td>0</td>\n",
       "      <td>0</td>\n",
       "    </tr>\n",
       "    <tr>\n",
       "      <th>5</th>\n",
       "      <td>6</td>\n",
       "      <td>No</td>\n",
       "      <td>Yes</td>\n",
       "      <td>919.59</td>\n",
       "      <td>7,491.56</td>\n",
       "      <td>0</td>\n",
       "      <td>1</td>\n",
       "    </tr>\n",
       "    <tr>\n",
       "      <th>6</th>\n",
       "      <td>7</td>\n",
       "      <td>No</td>\n",
       "      <td>No</td>\n",
       "      <td>825.51</td>\n",
       "      <td>24,905.23</td>\n",
       "      <td>0</td>\n",
       "      <td>0</td>\n",
       "    </tr>\n",
       "    <tr>\n",
       "      <th>7</th>\n",
       "      <td>8</td>\n",
       "      <td>No</td>\n",
       "      <td>Yes</td>\n",
       "      <td>808.67</td>\n",
       "      <td>17,600.45</td>\n",
       "      <td>0</td>\n",
       "      <td>1</td>\n",
       "    </tr>\n",
       "    <tr>\n",
       "      <th>8</th>\n",
       "      <td>9</td>\n",
       "      <td>No</td>\n",
       "      <td>No</td>\n",
       "      <td>1,161.06</td>\n",
       "      <td>37,468.53</td>\n",
       "      <td>0</td>\n",
       "      <td>0</td>\n",
       "    </tr>\n",
       "    <tr>\n",
       "      <th>9</th>\n",
       "      <td>10</td>\n",
       "      <td>No</td>\n",
       "      <td>No</td>\n",
       "      <td>0.00</td>\n",
       "      <td>29,275.27</td>\n",
       "      <td>0</td>\n",
       "      <td>0</td>\n",
       "    </tr>\n",
       "    <tr>\n",
       "      <th>10</th>\n",
       "      <td>11</td>\n",
       "      <td>No</td>\n",
       "      <td>Yes</td>\n",
       "      <td>0.00</td>\n",
       "      <td>21,871.07</td>\n",
       "      <td>0</td>\n",
       "      <td>1</td>\n",
       "    </tr>\n",
       "    <tr>\n",
       "      <th>11</th>\n",
       "      <td>12</td>\n",
       "      <td>No</td>\n",
       "      <td>Yes</td>\n",
       "      <td>1,220.58</td>\n",
       "      <td>13,268.56</td>\n",
       "      <td>0</td>\n",
       "      <td>1</td>\n",
       "    </tr>\n",
       "    <tr>\n",
       "      <th>12</th>\n",
       "      <td>13</td>\n",
       "      <td>No</td>\n",
       "      <td>No</td>\n",
       "      <td>237.05</td>\n",
       "      <td>28,251.70</td>\n",
       "      <td>0</td>\n",
       "      <td>0</td>\n",
       "    </tr>\n",
       "    <tr>\n",
       "      <th>13</th>\n",
       "      <td>14</td>\n",
       "      <td>No</td>\n",
       "      <td>No</td>\n",
       "      <td>606.74</td>\n",
       "      <td>44,994.56</td>\n",
       "      <td>0</td>\n",
       "      <td>0</td>\n",
       "    </tr>\n",
       "    <tr>\n",
       "      <th>14</th>\n",
       "      <td>15</td>\n",
       "      <td>No</td>\n",
       "      <td>No</td>\n",
       "      <td>1,112.97</td>\n",
       "      <td>23,810.17</td>\n",
       "      <td>0</td>\n",
       "      <td>0</td>\n",
       "    </tr>\n",
       "    <tr>\n",
       "      <th>15</th>\n",
       "      <td>16</td>\n",
       "      <td>No</td>\n",
       "      <td>No</td>\n",
       "      <td>286.23</td>\n",
       "      <td>45,042.41</td>\n",
       "      <td>0</td>\n",
       "      <td>0</td>\n",
       "    </tr>\n",
       "    <tr>\n",
       "      <th>16</th>\n",
       "      <td>17</td>\n",
       "      <td>No</td>\n",
       "      <td>No</td>\n",
       "      <td>0.00</td>\n",
       "      <td>50,265.31</td>\n",
       "      <td>0</td>\n",
       "      <td>0</td>\n",
       "    </tr>\n",
       "    <tr>\n",
       "      <th>17</th>\n",
       "      <td>18</td>\n",
       "      <td>No</td>\n",
       "      <td>Yes</td>\n",
       "      <td>527.54</td>\n",
       "      <td>17,636.54</td>\n",
       "      <td>0</td>\n",
       "      <td>1</td>\n",
       "    </tr>\n",
       "    <tr>\n",
       "      <th>18</th>\n",
       "      <td>19</td>\n",
       "      <td>No</td>\n",
       "      <td>No</td>\n",
       "      <td>485.94</td>\n",
       "      <td>61,566.11</td>\n",
       "      <td>0</td>\n",
       "      <td>0</td>\n",
       "    </tr>\n",
       "    <tr>\n",
       "      <th>19</th>\n",
       "      <td>20</td>\n",
       "      <td>No</td>\n",
       "      <td>No</td>\n",
       "      <td>1,095.07</td>\n",
       "      <td>26,464.63</td>\n",
       "      <td>0</td>\n",
       "      <td>0</td>\n",
       "    </tr>\n",
       "  </tbody>\n",
       "</table>\n",
       "</div>"
      ],
      "text/plain": [
       "    Unnamed: 0 default student  balance    income  default2  student2\n",
       "0            1      No      No   729.53 44,361.63         0         0\n",
       "1            2      No     Yes   817.18 12,106.13         0         1\n",
       "2            3      No      No 1,073.55 31,767.14         0         0\n",
       "3            4      No      No   529.25 35,704.49         0         0\n",
       "4            5      No      No   785.66 38,463.50         0         0\n",
       "5            6      No     Yes   919.59  7,491.56         0         1\n",
       "6            7      No      No   825.51 24,905.23         0         0\n",
       "7            8      No     Yes   808.67 17,600.45         0         1\n",
       "8            9      No      No 1,161.06 37,468.53         0         0\n",
       "9           10      No      No     0.00 29,275.27         0         0\n",
       "10          11      No     Yes     0.00 21,871.07         0         1\n",
       "11          12      No     Yes 1,220.58 13,268.56         0         1\n",
       "12          13      No      No   237.05 28,251.70         0         0\n",
       "13          14      No      No   606.74 44,994.56         0         0\n",
       "14          15      No      No 1,112.97 23,810.17         0         0\n",
       "15          16      No      No   286.23 45,042.41         0         0\n",
       "16          17      No      No     0.00 50,265.31         0         0\n",
       "17          18      No     Yes   527.54 17,636.54         0         1\n",
       "18          19      No      No   485.94 61,566.11         0         0\n",
       "19          20      No      No 1,095.07 26,464.63         0         0"
      ]
     },
     "execution_count": 41,
     "metadata": {},
     "output_type": "execute_result"
    }
   ],
   "source": [
    "#remember statsmodels needs 0 and 1 for binary variables so need to convert the no's and yes's\n",
    "Default['default2'] = Default.default.factorize()[0]\n",
    "Default['student2'] = Default.student.factorize()[0]\n",
    "Default.head(20)"
   ]
  },
  {
   "cell_type": "code",
   "execution_count": 27,
   "metadata": {
    "collapsed": true
   },
   "outputs": [],
   "source": [
    "import numpy as np\n",
    "import matplotlib as mpl\n",
    "import matplotlib.pyplot as plt\n",
    "import seaborn as sns\n",
    "\n",
    "import sklearn.linear_model as skl_lm\n",
    "from sklearn.discriminant_analysis import LinearDiscriminantAnalysis\n",
    "from sklearn.discriminant_analysis import QuadraticDiscriminantAnalysis\n",
    "from sklearn.metrics import confusion_matrix, classification_report, precision_score\n",
    "from sklearn import preprocessing\n",
    "from sklearn import neighbors\n",
    "from sklearn.metrics import mean_squared_error\n",
    "from sklearn.model_selection import train_test_split, LeaveOneOut, KFold, cross_val_score\n",
    "from sklearn.preprocessing import PolynomialFeatures\n",
    "\n",
    "import statsmodels.api as sm\n",
    "import statsmodels.formula.api as smf\n",
    "\n",
    "from patsy import dmatrices, dmatrix #patsy library for r-style formula entry\n",
    "\n",
    "%matplotlib inline\n",
    "plt.style.use('seaborn-white')"
   ]
  },
  {
   "cell_type": "code",
   "execution_count": 32,
   "metadata": {
    "scrolled": true
   },
   "outputs": [
    {
     "name": "stdout",
     "output_type": "stream",
     "text": [
      "Optimization terminated successfully.\n",
      "         Current function value: 0.077448\n",
      "         Iterations 10\n",
      "                           Logit Regression Results                           \n",
      "==============================================================================\n",
      "Dep. Variable:               default2   No. Observations:                 7000\n",
      "Model:                          Logit   Df Residuals:                     6997\n",
      "Method:                           MLE   Df Model:                            2\n",
      "Date:                Mon, 17 Sep 2018   Pseudo R-squ.:                  0.4474\n",
      "Time:                        09:45:29   Log-Likelihood:                -542.14\n",
      "converged:                       True   LL-Null:                       -981.14\n",
      "                                        LLR p-value:                2.204e-191\n",
      "==============================================================================\n",
      "                 coef    std err          z      P>|z|      [0.025      0.975]\n",
      "------------------------------------------------------------------------------\n",
      "Intercept    -11.3514      0.515    -22.060      0.000     -12.360     -10.343\n",
      "income      1.847e-05   5.98e-06      3.091      0.002    6.76e-06    3.02e-05\n",
      "balance        0.0055      0.000     20.428      0.000       0.005       0.006\n",
      "==============================================================================\n",
      "\n",
      "Possibly complete quasi-separation: A fraction 0.14 of observations can be\n",
      "perfectly predicted. This might indicate that there is complete\n",
      "quasi-separation. In this case some parameters will not be identified.\n"
     ]
    }
   ],
   "source": [
    "np.random.seed(1)\n",
    "train1 = np.random.choice(10000, 7000, replace=False)\n",
    "DefaultTrain = Default.loc[Default.index.isin(train1)]\n",
    "DefaultTest = Default.loc[~Default.index.isin(train1)]\n",
    "glmfit = smf.logit(formula='default2 ~ income + balance', data = DefaultTrain).fit()\n",
    "print(glmfit.summary())"
   ]
  },
  {
   "cell_type": "code",
   "execution_count": 36,
   "metadata": {},
   "outputs": [
    {
     "data": {
      "text/plain": [
       "0.029333333333333333"
      ]
     },
     "execution_count": 36,
     "metadata": {},
     "output_type": "execute_result"
    }
   ],
   "source": [
    "glmprobs = glmfit.predict(DefaultTest)\n",
    "glmpred = np.repeat(0, 3000)\n",
    "glmpred[glmprobs>.5] = 1\n",
    "df_ = pd.DataFrame({'Actual Direction': DefaultTest.default2, 'Predicted Direction': glmpred})\n",
    "df_.groupby(['Predicted Direction','Actual Direction']).size().unstack('Actual Direction')\n",
    "np.mean(glmpred!=DefaultTest.default2)"
   ]
  },
  {
   "cell_type": "code",
   "execution_count": 37,
   "metadata": {},
   "outputs": [
    {
     "name": "stdout",
     "output_type": "stream",
     "text": [
      "Optimization terminated successfully.\n",
      "         Current function value: 0.079833\n",
      "         Iterations 10\n"
     ]
    },
    {
     "data": {
      "text/plain": [
       "0.027"
      ]
     },
     "execution_count": 37,
     "metadata": {},
     "output_type": "execute_result"
    }
   ],
   "source": [
    "np.random.seed(1)\n",
    "train2= np.random.choice(10000, 8000, replace=False)\n",
    "DefaultTrain2 = Default.loc[Default.index.isin(train2)]\n",
    "DefaultTest2 = Default.loc[~Default.index.isin(train2)]\n",
    "glmfit2 = smf.logit(formula='default2 ~ income + balance', data = DefaultTrain2).fit()\n",
    "glmprobs2 = glmfit2.predict(DefaultTest2)\n",
    "glmpred2 = np.repeat(0, 2000)\n",
    "glmpred2[glmprobs2>.5] = 1\n",
    "df_ = pd.DataFrame({'Actual Direction': DefaultTest2.default2, 'Predicted Direction': glmpred2})\n",
    "df_.groupby(['Predicted Direction','Actual Direction']).size().unstack('Actual Direction')\n",
    "np.mean(glmpred2!=DefaultTest2.default2)"
   ]
  },
  {
   "cell_type": "code",
   "execution_count": 38,
   "metadata": {},
   "outputs": [
    {
     "name": "stdout",
     "output_type": "stream",
     "text": [
      "Optimization terminated successfully.\n",
      "         Current function value: 0.080068\n",
      "         Iterations 10\n"
     ]
    },
    {
     "data": {
      "text/plain": [
       "0.023"
      ]
     },
     "execution_count": 38,
     "metadata": {},
     "output_type": "execute_result"
    }
   ],
   "source": [
    "np.random.seed(1)\n",
    "train3= np.random.choice(10000, 9000, replace=False)\n",
    "DefaultTrain3 = Default.loc[Default.index.isin(train3)]\n",
    "DefaultTest3 = Default.loc[~Default.index.isin(train3)]\n",
    "glmfit3 = smf.logit(formula='default2 ~ income + balance', data = DefaultTrain3).fit()\n",
    "glmprobs3 = glmfit3.predict(DefaultTest3)\n",
    "glmpred3 = np.repeat(0, 1000)\n",
    "glmpred3[glmprobs3>.5] = 1\n",
    "df_ = pd.DataFrame({'Actual Direction': DefaultTest3.default2, 'Predicted Direction': glmpred3})\n",
    "df_.groupby(['Predicted Direction','Actual Direction']).size().unstack('Actual Direction')\n",
    "np.mean(glmpred3!=DefaultTest3.default2)"
   ]
  },
  {
   "cell_type": "markdown",
   "metadata": {},
   "source": [
    "Validation set error appears to decrease as proportion of observations assigned to the training set increases."
   ]
  },
  {
   "cell_type": "code",
   "execution_count": 50,
   "metadata": {},
   "outputs": [
    {
     "name": "stdout",
     "output_type": "stream",
     "text": [
      "Optimization terminated successfully.\n",
      "         Current function value: 0.079565\n",
      "         Iterations 10\n"
     ]
    },
    {
     "data": {
      "text/plain": [
       "0.028000000000000001"
      ]
     },
     "execution_count": 50,
     "metadata": {},
     "output_type": "execute_result"
    }
   ],
   "source": [
    "np.random.seed(1)\n",
    "train4 = np.random.choice(10000, 8000, replace=False)\n",
    "DefaultTrain4 = Default.loc[Default.index.isin(train4)]\n",
    "DefaultTest4 = Default.loc[~Default.index.isin(train4)]\n",
    "glmfit4 = smf.logit(formula='default2 ~ income + balance + student', data = DefaultTrain4).fit()\n",
    "glmprobs4 = glmfit4.predict(DefaultTest4)\n",
    "glmpred4 = np.repeat(0, 2000)\n",
    "glmpred4[glmprobs4>.5] = 1\n",
    "df_ = pd.DataFrame({'Actual Direction': DefaultTest4.default2, 'Predicted Direction': glmpred4})\n",
    "df_.groupby(['Predicted Direction','Actual Direction']).size().unstack('Actual Direction')\n",
    "np.mean(glmpred4!=DefaultTest4.default2)"
   ]
  },
  {
   "cell_type": "markdown",
   "metadata": {},
   "source": [
    "Compared to my results in R the addition of the student variable appears to worsen the validation set error here. This occurs for all the training set sizes I've tried here. Probably has to do with the observations selected by the randomization here vs. those in R."
   ]
  }
 ],
 "metadata": {
  "kernelspec": {
   "display_name": "Python 3",
   "language": "python",
   "name": "python3"
  },
  "language_info": {
   "codemirror_mode": {
    "name": "ipython",
    "version": 3
   },
   "file_extension": ".py",
   "mimetype": "text/x-python",
   "name": "python",
   "nbconvert_exporter": "python",
   "pygments_lexer": "ipython3",
   "version": "3.6.3"
  }
 },
 "nbformat": 4,
 "nbformat_minor": 2
}
